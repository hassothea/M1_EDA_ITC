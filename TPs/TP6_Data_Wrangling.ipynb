{
 "cells": [
  {
   "cell_type": "markdown",
   "metadata": {},
   "source": [
    "# **TP6 - Data Wrangling**\n",
    "\n",
    "<b>Course: EDA & Unsupervised Learning</b> <br>\n",
    "**M1-DAS** <br>\n",
    "**Lecturer: HAS Sothea, PhD**\n",
    "\n",
    "-------"
   ]
  },
  {
   "cell_type": "markdown",
   "metadata": {},
   "source": [
    "**Objective:** In practice, real insights from data often require data transformation and manipulation. `Data wrangling` is the process of cleaning, structuring, and organizing raw data into a usable format. It involves tasks like handling missing values, correcting errors, and transforming data to make it suitable for analysis. In this TP, you will learn how to perform some important tasks of data wrangling including: Creating, loading, changing types, aggregating, merging and manipulating data frames in `pandas`...\n",
    "\n",
    "> **The `Jupyter Notebook` for this Lab can be downloaded here: [TP6_Wrangling.ipynb](https://hassothea.github.io/M1_EDA_ITC/TPs/TP6_Data_Wrangling.ipynb)**.\n",
    "\n",
    "-----------\n",
    "\n",
    "## **1. Creating data frames**\n",
    "\n",
    "- Create an artificial data frame:\n",
    "    - Columns: ['Electricity', 'Water', 'Currency']\n",
    "    - Rows: 12 (indexed by month)\n",
    "    - Values: Electricity (Kw), Water ($m^3$), Currency (Dollar or Riel)\n",
    "\n",
    "- Add a column `Electricity_Exp` to the data, which is the expense on electricity givinig that the price is $800$R or $0.2\\$$ per KW.\n",
    "\n",
    "- Add a `Water_Exp` column to the data, which is the expense on water giving the price of $1000$R or $0.25\\$$ per $m^3$.\n",
    "\n",
    "- Add two columns of total expenses in dollar and riel: `Total_dollar` and `Total_riel`.\n",
    "\n",
    "- Identify the months with the highest and lowest expenses for:\n",
    "    - Electricity\n",
    "    - Water\n",
    "    - Total expenses."
   ]
  },
  {
   "cell_type": "code",
   "execution_count": 1,
   "metadata": {},
   "outputs": [],
   "source": [
    "# To do"
   ]
  },
  {
   "cell_type": "markdown",
   "metadata": {},
   "source": [
    "## **2. Food Delivery Dataset**\n",
    "\n",
    "This dataset is designed for predicting food delivery times based on various influencing factors such as distance, weather, traffic conditions, and time of day. It offers a practical and engaging challenge for machine learning practitioners, especially those interested in logistics and operations research. Read and load the data from kaggle: [`Food Delivery Dataset`](https://www.kaggle.com/datasets/denkuznetz/food-delivery-time-prediction/data).\n",
    "\n",
    "Download the dataset and import it."
   ]
  },
  {
   "cell_type": "code",
   "execution_count": null,
   "metadata": {},
   "outputs": [],
   "source": [
    "# %pip install kagglehub   # if you have not installed \"kagglehub\" module yet\n",
    "import kagglehub\n",
    "\n",
    "# Download latest version\n",
    "path = kagglehub.dataset_download(\"denkuznetz/food-delivery-time-prediction\")\n",
    "\n",
    "print(f'The data is downloaded and store at: {path}')\n",
    "\n",
    "\n",
    "# To do"
   ]
  },
  {
   "cell_type": "markdown",
   "metadata": {},
   "source": [
    "**A. Data overview:** \n",
    "\n",
    "- Address the dimension, qualitative and quantitative columns of the dataset.\n",
    "- Create statistical summary of the dataset.\n",
    "- Identify problems and handle them if there is any:\n",
    "    - Missing values,\n",
    "    - Duplicated data,\n",
    "    - Outliers..."
   ]
  },
  {
   "cell_type": "code",
   "execution_count": 2,
   "metadata": {},
   "outputs": [],
   "source": [
    "# To do"
   ]
  },
  {
   "cell_type": "markdown",
   "metadata": {},
   "source": [
    "**B. Data Statistics**\n",
    "\n",
    "- Compute average delivery time according to:\n",
    "    - Weather condition.\n",
    "    - Traffic level.\n",
    "    - Time of the day.\n",
    "    - Vehical type.\n",
    "\n",
    "- Compute average delivery time according to:\n",
    "    - Weather and Traffic level.\n",
    "    - Time of the day and vehical type.\n",
    "    - Weather, Traffic and Time of the day.\n",
    "\n",
    "- Compute average delivery time for\n",
    "    - Courier with more than 3 year experience and those who have less.\n",
    "    - Distances longer and shorter than 10km.\n",
    "    - Different class of the above conditions."
   ]
  },
  {
   "cell_type": "code",
   "execution_count": 3,
   "metadata": {},
   "outputs": [],
   "source": [
    "# To do"
   ]
  },
  {
   "cell_type": "markdown",
   "metadata": {},
   "source": [
    "## **3. Flight Dataset**\n",
    "\n",
    "In this section, we explore `NYC Flights 2013` dataset available in kaggle: [https://www.kaggle.com/datasets/aephidayatuloh/nyc-flights-2013](https://www.kaggle.com/datasets/aephidayatuloh/nyc-flights-2013). There are five datasets in total:\n",
    "\n",
    "- `nyc_airlines.csv`: information about the airlines\n",
    "- `nyc_airports.csv`: information about the airports\n",
    "- `nyc_flights.csv`: information about the flights\n",
    "- `nyc_planes.csv`: information about the planes\n",
    "- `nyc_weather.csv`: information about the weather.\n",
    "\n",
    "You will explore these datasets and try to answer the questions below. But first, let's import the datasets."
   ]
  },
  {
   "cell_type": "code",
   "execution_count": null,
   "metadata": {},
   "outputs": [],
   "source": [
    "import kagglehub\n",
    "\n",
    "# Download latest version\n",
    "path = kagglehub.dataset_download(\"aephidayatuloh/nyc-flights-2013\")"
   ]
  },
  {
   "cell_type": "markdown",
   "metadata": {},
   "source": [
    "First, we will explore `nyc_flights.csv` dataset."
   ]
  },
  {
   "cell_type": "code",
   "execution_count": 4,
   "metadata": {},
   "outputs": [
    {
     "data": {
      "text/html": [
       "<div>\n",
       "<style scoped>\n",
       "    .dataframe tbody tr th:only-of-type {\n",
       "        vertical-align: middle;\n",
       "    }\n",
       "\n",
       "    .dataframe tbody tr th {\n",
       "        vertical-align: top;\n",
       "    }\n",
       "\n",
       "    .dataframe thead th {\n",
       "        text-align: right;\n",
       "    }\n",
       "</style>\n",
       "<table border=\"1\" class=\"dataframe\">\n",
       "  <thead>\n",
       "    <tr style=\"text-align: right;\">\n",
       "      <th></th>\n",
       "      <th>year</th>\n",
       "      <th>month</th>\n",
       "      <th>day</th>\n",
       "      <th>dep_time</th>\n",
       "      <th>sched_dep_time</th>\n",
       "      <th>dep_delay</th>\n",
       "      <th>arr_time</th>\n",
       "      <th>sched_arr_time</th>\n",
       "      <th>arr_delay</th>\n",
       "      <th>carrier</th>\n",
       "      <th>flight</th>\n",
       "      <th>tailnum</th>\n",
       "      <th>origin</th>\n",
       "      <th>dest</th>\n",
       "      <th>air_time</th>\n",
       "      <th>distance</th>\n",
       "      <th>hour</th>\n",
       "      <th>minute</th>\n",
       "      <th>time_hour</th>\n",
       "    </tr>\n",
       "  </thead>\n",
       "  <tbody>\n",
       "    <tr>\n",
       "      <th>0</th>\n",
       "      <td>2013</td>\n",
       "      <td>1</td>\n",
       "      <td>1</td>\n",
       "      <td>517.0</td>\n",
       "      <td>515</td>\n",
       "      <td>2.0</td>\n",
       "      <td>830.0</td>\n",
       "      <td>819</td>\n",
       "      <td>11.0</td>\n",
       "      <td>UA</td>\n",
       "      <td>1545</td>\n",
       "      <td>N14228</td>\n",
       "      <td>EWR</td>\n",
       "      <td>IAH</td>\n",
       "      <td>227.0</td>\n",
       "      <td>1400</td>\n",
       "      <td>5</td>\n",
       "      <td>15</td>\n",
       "      <td>2013-01-01T10:00:00Z</td>\n",
       "    </tr>\n",
       "    <tr>\n",
       "      <th>1</th>\n",
       "      <td>2013</td>\n",
       "      <td>1</td>\n",
       "      <td>1</td>\n",
       "      <td>533.0</td>\n",
       "      <td>529</td>\n",
       "      <td>4.0</td>\n",
       "      <td>850.0</td>\n",
       "      <td>830</td>\n",
       "      <td>20.0</td>\n",
       "      <td>UA</td>\n",
       "      <td>1714</td>\n",
       "      <td>N24211</td>\n",
       "      <td>LGA</td>\n",
       "      <td>IAH</td>\n",
       "      <td>227.0</td>\n",
       "      <td>1416</td>\n",
       "      <td>5</td>\n",
       "      <td>29</td>\n",
       "      <td>2013-01-01T10:00:00Z</td>\n",
       "    </tr>\n",
       "    <tr>\n",
       "      <th>2</th>\n",
       "      <td>2013</td>\n",
       "      <td>1</td>\n",
       "      <td>1</td>\n",
       "      <td>542.0</td>\n",
       "      <td>540</td>\n",
       "      <td>2.0</td>\n",
       "      <td>923.0</td>\n",
       "      <td>850</td>\n",
       "      <td>33.0</td>\n",
       "      <td>AA</td>\n",
       "      <td>1141</td>\n",
       "      <td>N619AA</td>\n",
       "      <td>JFK</td>\n",
       "      <td>MIA</td>\n",
       "      <td>160.0</td>\n",
       "      <td>1089</td>\n",
       "      <td>5</td>\n",
       "      <td>40</td>\n",
       "      <td>2013-01-01T10:00:00Z</td>\n",
       "    </tr>\n",
       "    <tr>\n",
       "      <th>3</th>\n",
       "      <td>2013</td>\n",
       "      <td>1</td>\n",
       "      <td>1</td>\n",
       "      <td>544.0</td>\n",
       "      <td>545</td>\n",
       "      <td>-1.0</td>\n",
       "      <td>1004.0</td>\n",
       "      <td>1022</td>\n",
       "      <td>-18.0</td>\n",
       "      <td>B6</td>\n",
       "      <td>725</td>\n",
       "      <td>N804JB</td>\n",
       "      <td>JFK</td>\n",
       "      <td>BQN</td>\n",
       "      <td>183.0</td>\n",
       "      <td>1576</td>\n",
       "      <td>5</td>\n",
       "      <td>45</td>\n",
       "      <td>2013-01-01T10:00:00Z</td>\n",
       "    </tr>\n",
       "    <tr>\n",
       "      <th>4</th>\n",
       "      <td>2013</td>\n",
       "      <td>1</td>\n",
       "      <td>1</td>\n",
       "      <td>554.0</td>\n",
       "      <td>600</td>\n",
       "      <td>-6.0</td>\n",
       "      <td>812.0</td>\n",
       "      <td>837</td>\n",
       "      <td>-25.0</td>\n",
       "      <td>DL</td>\n",
       "      <td>461</td>\n",
       "      <td>N668DN</td>\n",
       "      <td>LGA</td>\n",
       "      <td>ATL</td>\n",
       "      <td>116.0</td>\n",
       "      <td>762</td>\n",
       "      <td>6</td>\n",
       "      <td>0</td>\n",
       "      <td>2013-01-01T11:00:00Z</td>\n",
       "    </tr>\n",
       "  </tbody>\n",
       "</table>\n",
       "</div>"
      ],
      "text/plain": [
       "   year  month  day  dep_time  sched_dep_time  dep_delay  arr_time  \\\n",
       "0  2013      1    1     517.0             515        2.0     830.0   \n",
       "1  2013      1    1     533.0             529        4.0     850.0   \n",
       "2  2013      1    1     542.0             540        2.0     923.0   \n",
       "3  2013      1    1     544.0             545       -1.0    1004.0   \n",
       "4  2013      1    1     554.0             600       -6.0     812.0   \n",
       "\n",
       "   sched_arr_time  arr_delay carrier  flight tailnum origin dest  air_time  \\\n",
       "0             819       11.0      UA    1545  N14228    EWR  IAH     227.0   \n",
       "1             830       20.0      UA    1714  N24211    LGA  IAH     227.0   \n",
       "2             850       33.0      AA    1141  N619AA    JFK  MIA     160.0   \n",
       "3            1022      -18.0      B6     725  N804JB    JFK  BQN     183.0   \n",
       "4             837      -25.0      DL     461  N668DN    LGA  ATL     116.0   \n",
       "\n",
       "   distance  hour  minute             time_hour  \n",
       "0      1400     5      15  2013-01-01T10:00:00Z  \n",
       "1      1416     5      29  2013-01-01T10:00:00Z  \n",
       "2      1089     5      40  2013-01-01T10:00:00Z  \n",
       "3      1576     5      45  2013-01-01T10:00:00Z  \n",
       "4       762     6       0  2013-01-01T11:00:00Z  "
      ]
     },
     "execution_count": 4,
     "metadata": {},
     "output_type": "execute_result"
    }
   ],
   "source": [
    "import pandas as pd\n",
    "\n",
    "flights = pd.read_csv(path + '/nyc_flights.csv')\n",
    "flights.head()"
   ]
  },
  {
   "cell_type": "markdown",
   "metadata": {},
   "source": [
    "### **Answer the following questions:**\n",
    "\n",
    "**A.** Find and count the number rows with missing values in the dataset. Can you guess what might those rows represent?\n",
    "\n",
    "**B.** Find all flights with **arrival delay** smaller than **departure delay**.\n",
    "\n",
    "**C.** Find all flights departing during weekends (Saturday, Sunday) from La Guardia airport (LGA). `Hint`: you may need to use functions `strptime` and `strftime` of `datetime` module from `datetime` library. For example:"
   ]
  },
  {
   "cell_type": "code",
   "execution_count": 11,
   "metadata": {},
   "outputs": [
    {
     "data": {
      "text/plain": [
       "'Tuesday'"
      ]
     },
     "execution_count": 11,
     "metadata": {},
     "output_type": "execute_result"
    }
   ],
   "source": [
    "from datetime import datetime\n",
    "\n",
    "day = datetime.strptime(flights['time_hour'][0], '%Y-%m-%dT%H:%M:%SZ')\n",
    "datetime.strftime(day, \"%A\")"
   ]
  },
  {
   "cell_type": "markdown",
   "metadata": {},
   "source": [
    "**D.** Find all flights that landed between 6.pm and 8.pm and took off from one of `EWR`, `JFK`, `LGA` (take the remainder of your birthday when divided by 3, i.e., `day % 3 + 1`. If the result is 1, the airport is `EWR`, if the remainder is 2 or 3 then the airport is `JFK` or `LGA` accordingly.).\n",
    "\n",
    "**E.** Find all flights with distance more than 600 miles and speed larger than 475 miles per hour. Sort theresults by decreasing speed.\n",
    "\n",
    "**F.** Find all supersonic flights (speed larger than 700 miles per hour).\n",
    "\n",
    "**G.** Add a new column named `speed` with speed in km per hour.\n",
    "\n",
    "**H.** Compute the number of cancelled flights for each day of week.\n",
    "\n",
    "**I.** For each carrier, day of week, compute the number of flights departing from `JFK`.\n",
    "\n",
    "**J.** For each carrier, compute the proportion of cancelled flights.\n",
    "\n",
    "**K.** Find the carriers that serve at least 10 distinct destinations.\n",
    "\n",
    "**L.** Find the carriers that do not serve all origin airports.\n",
    "\n",
    "**M.** Find the carriers that serve both `ATL` and `LAX`.\n",
    "\n",
    "**N.** Find the carriers that serve both `ATL` and `LAX` but serve neither `IAH` nor `HNL`.\n",
    "\n",
    "**O.** Find all destinations that are served every day of June from at least one New York airport.\n",
    "\n",
    "**P.** Which carrier is operating the plane (`tailnum`) that serve the largest number of distinct destinations?\n",
    "\n",
    "**Q.** Find the 10 most distant destinations from `LGA`.\n",
    "\n",
    "**R.** Find the destinations served by the largest number of carriers?\n",
    "\n",
    "**S.** What is the average number of flights bound to `LAX` on Sunday?\n",
    "\n",
    "**T.** Does there exist a plane (tailnum) that flew out of NY under two distinct carriers? If yes, list the carriers.\n",
    "\n",
    "**U.** Find rows such that time_hour, year, month, day, hour, minute are not consistent, i.e., "
   ]
  },
  {
   "cell_type": "markdown",
   "metadata": {},
   "source": [
    "# Further readings\n",
    "\n",
    "- [Pandas Cheatsheet](https://pandas.pydata.org/Pandas_Cheat_Sheet.pdf){target='_blank'}.\n",
    "- [https://pandas.pydata.org/](https://pandas.pydata.org/){target='_blank'}.\n",
    "- [Book: Python for Data Analysis, Wes McKinney (2012)](https://edisciplinas.usp.br/pluginfile.php/7880239/mod_folder/content/0/Wes%20McKinney%20-%20Python%20for%20Data%20Analysis_%20Data%20Wrangling%20with%20pandas%2C%20NumPy%2C%20and%20Jupyter-OReilly%20Media%20%282022%29.pdf){target='_blank'}.\n",
    "-  [NYC Flight dataset 2013](https://www.kaggle.com/datasets/aephidayatuloh/nyc-flights-2013)."
   ]
  }
 ],
 "metadata": {
  "kernelspec": {
   "display_name": "Python 3",
   "language": "python",
   "name": "python3"
  },
  "language_info": {
   "codemirror_mode": {
    "name": "ipython",
    "version": 3
   },
   "file_extension": ".py",
   "mimetype": "text/x-python",
   "name": "python",
   "nbconvert_exporter": "python",
   "pygments_lexer": "ipython3",
   "version": "3.12.5"
  }
 },
 "nbformat": 4,
 "nbformat_minor": 2
}
